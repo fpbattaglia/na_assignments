{
 "cells": [
  {
   "attachments": {},
   "cell_type": "markdown",
   "metadata": {},
   "source": [
    "# Exercises"
   ]
  },
  {
   "cell_type": "code",
   "execution_count": 11,
   "metadata": {},
   "outputs": [],
   "source": [
    "import numpy as np\n",
    "import matplotlib.pyplot as plt\n",
    "from scipy.optimize import minimize\n",
    "\n",
    "\n",
    "# Define functions\n",
    "def gen_stimuli(duration, dt, vf_size, std_dev):\n",
    "    n_bins = round(duration / float(dt))\n",
    "    S = std_dev * np.random.randn(n_bins,vf_size[0],vf_size[1])    \n",
    "    return S, n_bins\n",
    "\n",
    "def gen_rf(vf_size = (15,15)):\n",
    "    size = vf_size # size in pixel of our receptive field\n",
    "    mu = (8, 8) # center of the gabor pathc\n",
    "    sigma = (4,4) #size of the gabor patch\n",
    "    angle = 45 # orientation of the gabor patch\n",
    "    frequency = .085 # spatial frequency of the gabor patch\n",
    "    phase = 0 # pahse of the gabor pathc\n",
    "\n",
    "    xx, yy = np.meshgrid(1. + np.arange(size[0]),\n",
    "                            1. + np.arange(size[1]))\n",
    "\n",
    "    # Gaussian envelope\n",
    "    G = np.exp(- np.power(xx - mu[0], 2) / (2. * sigma[0])\n",
    "                - np.power(yy - mu[1], 2) / (2. * sigma[1]))\n",
    "\n",
    "    # spatial modulation\n",
    "    phi = np.deg2rad(angle)\n",
    "    xxr = xx * np.cos(phi)\n",
    "    yyr = yy * np.sin(phi)\n",
    "    xyr = (xxr + yyr) * 2. * np.pi * 2. * frequency\n",
    "    Sn = np.cos(xyr + phase)\n",
    "\n",
    "    K = G * Sn\n",
    "    K /= np.amax(np.abs(K))\n",
    "\n",
    "    return K\n",
    "\n",
    "def gen_data_gaussian_linear(K, duration = 50., vf_size = (15,15), std_dev = 1, dt = .1):\n",
    "    S, n_bins = gen_stimuli(duration, dt, vf_size, std_dev)\n",
    "\n",
    "    noise_variance = 1\n",
    "    offset = 2.\n",
    "\n",
    "    # flatten the matrices in to 1d array for convenience\n",
    "    K_flat = K.ravel()\n",
    "    K_flat = np.hstack((K.flat, offset))\n",
    "    S_flat = S.reshape(S.shape[0],S.shape[1]*S.shape[2])\n",
    "    S_flat = np.hstack((S_flat, np.ones((n_bins, 1))))\n",
    "    # 1. linear stage\n",
    "    ks = np.dot(K_flat, S_flat.T)\n",
    "    # 2. nonlinear stage (for a linear model: f -> identity function)\n",
    "    rate = ks\n",
    "    # add Gaussian noise centered around the \"true\" rate for each bin\n",
    "    rate = rate + np.sqrt(noise_variance) * np.random.randn(n_bins)\n",
    "\n",
    "    return S_flat, rate\n",
    "\n",
    "def fit_model_gaussian_linear(S_flat, rate, vf_size = (15,15)):\n",
    "    K_hat = np.linalg.pinv(S_flat.T @ S_flat) @ (S_flat.T @ rate)\n",
    "    K_hat = K_hat[:-1].reshape(vf_size)\n",
    "    return K_hat\n",
    "\n",
    "def generate_inhomogeneous_poisson_spikes(lamda, dt):\n",
    "\n",
    "    n_bins = lamda.shape[0]\n",
    "    bins = np.arange(n_bins+1)*dt\n",
    "\n",
    "    # generate Poisson distributed numbers for all bins with the max. intensity (lamda_max)\n",
    "    lamda_max = np.max(lamda)\n",
    "    poisson_numbers = np.random.poisson(lamda_max, size=n_bins)\n",
    "\n",
    "    # throw away numbers depending on the actual intensity (\"thinning\")\n",
    "    spike_times = []\n",
    "    prob = lamda / lamda_max\n",
    "    for i in range(n_bins):\n",
    "        \n",
    "        # number of spikes to keep in this bin\n",
    "        n = np.sum(np.random.rand(poisson_numbers[i]) < prob[i])\n",
    "        n_s = int(round(n * dt))\n",
    "\n",
    "        # generate random spike times in this bin\n",
    "        ts = bins[i] + np.random.rand(n_s)*dt\n",
    "\n",
    "        spike_times.extend(ts)\n",
    "\n",
    "    return np.asarray(spike_times)\n",
    "\n",
    "def gen_data_LNP(K, duration = 50., vf_size = (15,15), std_dev = 1, dt = .1):\n",
    "    S, n_bins = gen_stimuli(duration, dt, vf_size, std_dev)\n",
    "\n",
    "    offset = 2.\n",
    "    spike_rate = 5 # average firing rate \n",
    "\n",
    "    # flatten the matrices in to 1d array for convenience\n",
    "    K_flat = K.ravel()\n",
    "    K_flat = np.hstack((K.flat, offset))\n",
    "\n",
    "    S_flat = S.reshape(S.shape[0],S.shape[1]*S.shape[2])\n",
    "    S_flat = np.hstack((S_flat, np.ones((n_bins, 1))))\n",
    "\n",
    "\n",
    "    # 1. linear stage\n",
    "    ks = np.dot(K_flat, S_flat.T)\n",
    "\n",
    "    # 2. nonlinear stage (for a linear model: f -> identity function)\n",
    "    lamda = np.exp(ks)\n",
    "\n",
    "    # lamda * dt is the number of spikes in the different bins (but keep in mind that the Poisson process\n",
    "    # is a stochastic process so the actual number will differ for every draw). Thus, the sum of the product \n",
    "    # across all bins gives the expected number of spikes for the whole draw.\n",
    "    expected_rate = np.sum(lamda*dt) / duration\n",
    "    lamda *= (spike_rate / expected_rate)\n",
    "\n",
    "    # generate spike times using an inhomogeneous Poisson process\n",
    "    spike_times = generate_inhomogeneous_poisson_spikes(lamda, dt)\n",
    "\n",
    "    # compute spike counts in the different time bins\n",
    "    spike_counts = np.histogram(spike_times,\n",
    "                                bins=np.arange(n_bins+1)*dt)[0]\n",
    "\n",
    "    return S_flat, spike_counts\n",
    "\n",
    "def fit_model_LNP(S_flat, spike_counts, dt=.1):\n",
    "\n",
    "    # define functions for minimisation\n",
    "    def cost(k, spike_counts, S,alpha=1):\n",
    "        #negative loglikelihood function to minimize\n",
    "        ks = np.dot(k, S.T)\n",
    "        lamda = np.exp(ks)\n",
    "        return -np.dot(spike_counts, ks) + dt * np.sum(lamda)\n",
    "        \n",
    "        \n",
    "    def grad(k, spike_counts, S):\n",
    "        # expression of the gradient of the negative log likelihood (note the sign is flipped accordingly)\n",
    "\n",
    "        ks = np.dot(k, S.T)\n",
    "        lamda = np.exp(ks)\n",
    "        return -np.dot(S.T, spike_counts - dt*lamda)\n",
    "\n",
    "    k_STA = np.inner(S_flat.T, spike_counts) / np.sum(spike_counts)\n",
    "    res = minimize(fun = cost, x0 = k_STA / 10, args = (spike_counts, S_flat), method = 'Newton-CG', jac = grad)\n",
    "\n",
    "    K_est = res.x\n",
    "\n",
    "    return K_est[:-1]\n",
    "\n",
    "def calculate_corr(K, K_hat):\n",
    "    return np.inner(K.ravel(), K_hat.ravel()) / (np.linalg.norm(K.ravel()) * np.linalg.norm(K_hat.ravel()))"
   ]
  },
  {
   "attachments": {},
   "cell_type": "markdown",
   "metadata": {},
   "source": [
    "## Exercise 1\n",
    "---\n",
    "Determine the effect of stimulus sequence duration on RF estimates. To do this, repeat the above steps for different durations (5 s, 10 s, 20 s, 40 s, 80 s, 160 s, 320 s, 640 s). Compute the Pearson correlation between true and estimated RFs for each duration to quantify the accuracy of the estimator. The Pearson correlation $\\mathrm{cc}$ is defined as\n",
    "$$\n",
    "\\mathrm{cc} = \\frac{\\mathbf{k}_\\mathrm{true}^T \\hat{\\mathbf{k}}}{\\lVert \\mathbf{k}_\\mathrm{true} \\rVert \\lVert \\hat{\\mathbf{k}} \\rVert}\n",
    "$$\n",
    "where $\\lVert \\cdot \\rVert$ is the L2-norm (vector length).\n",
    "As the response generation process is stochastic, compute the average correlation across 10 realizations for the same duration and plot the average correlation as a function of duration. How is the recording duration related to the ability to recover the true RF? "
   ]
  },
  {
   "cell_type": "code",
   "execution_count": 12,
   "metadata": {},
   "outputs": [
    {
     "name": "stderr",
     "output_type": "stream",
     "text": [
      "/var/folders/fl/hnfff_jn7cd0rmhv6_dgmczw0000gn/T/ipykernel_8233/4156100820.py:138: RuntimeWarning: overflow encountered in exp\n",
      "  lamda = np.exp(ks)\n",
      "/var/folders/fl/hnfff_jn7cd0rmhv6_dgmczw0000gn/T/ipykernel_8233/4156100820.py:138: RuntimeWarning: overflow encountered in exp\n",
      "  lamda = np.exp(ks)\n",
      "/var/folders/fl/hnfff_jn7cd0rmhv6_dgmczw0000gn/T/ipykernel_8233/4156100820.py:130: RuntimeWarning: overflow encountered in exp\n",
      "  lamda = np.exp(ks)\n",
      "/var/folders/fl/hnfff_jn7cd0rmhv6_dgmczw0000gn/T/ipykernel_8233/4156100820.py:138: RuntimeWarning: overflow encountered in exp\n",
      "  lamda = np.exp(ks)\n"
     ]
    }
   ],
   "source": [
    "durations = [5, 10, 20, 40, 80, 160, 320, 640]\n",
    "n_trials = 10\n",
    "\n",
    "corr_gaussian_linear = np.zeros((len(durations), n_trials))\n",
    "corr_LNP = np.zeros((len(durations), n_trials))\n",
    "\n",
    "for i, duration in enumerate(durations):\n",
    "    for j in range(n_trials):\n",
    "        K = gen_rf()\n",
    "        \n",
    "        S_flat, rate = gen_data_gaussian_linear(K, duration = duration)\n",
    "        K_hat = fit_model_gaussian_linear(S_flat, rate)\n",
    "        corr_gaussian_linear[i,j] = calculate_corr(K, K_hat)\n",
    "\n",
    "        S_flat, spike_counts = gen_data_LNP(K, duration = duration)\n",
    "        K_hat = fit_model_LNP(S_flat, spike_counts)\n",
    "        corr_LNP[i,j] = calculate_corr(K, K_hat)"
   ]
  },
  {
   "cell_type": "code",
   "execution_count": 15,
   "metadata": {},
   "outputs": [
    {
     "data": {
      "image/png": "[encoded data removed]",
      "text/plain": [
       "<Figure size 1000x500 with 2 Axes>"
      ]
     },
     "metadata": {},
     "output_type": "display_data"
    }
   ],
   "source": [
    "# Plot the results\n",
    "plt.figure(figsize=(10,5))\n",
    "plt.subplot(1,2,1)\n",
    "plt.plot(durations, np.mean(corr_gaussian_linear, axis=1), '-o')\n",
    "plt.xlabel('Duration [s]')\n",
    "plt.ylabel('Correlation')\n",
    "plt.title('Gaussian linear model')\n",
    "\n",
    "plt.subplot(1,2,2)\n",
    "plt.plot(durations, np.mean(corr_LNP, axis=1), '-o')\n",
    "plt.xlabel('Duration [s]')\n",
    "plt.ylabel('Correlation')\n",
    "plt.title('LNP model')\n",
    "\n",
    "plt.tight_layout()\n",
    "plt.show()"
   ]
  },
  {
   "attachments": {},
   "cell_type": "markdown",
   "metadata": {},
   "source": [
    "<div class=\"alert alert-block alert-info\">\n",
    "\n",
    "**Comment for Exercise 1**\n",
    "\n",
    "As the record duration increases, the ability to recover the true RF increases. This is the case for both Gaussian linear and LNP models."
   ]
  },
  {
   "attachments": {},
   "cell_type": "markdown",
   "metadata": {},
   "source": [
    "## Exercise 2\n",
    "---\n",
    "Determine the effect of response noise ($\\sigma^2$) on RF estimates. Try different value for the noise variance in the simulations, e.g., 0, 2, 4, 6, 8, and 10 for a duration of 100 s. As in the previous excercise, repeatedly estimate RF parameters for each condition (10 times) but this time also plot the standard deviation of the correlations across the different runs for each condition."
   ]
  },
  {
   "attachments": {},
   "cell_type": "markdown",
   "metadata": {},
   "source": [
    "## Exercise 3\n",
    "---\n",
    "What happens if the neural response is related to the filtered stimulus by a nonlinear function  $r = f_\\mathrm{nonlinear}(\\mathbf{k}^T \\mathbf{s})$, e.g., by setting the `f_nonlin` argument in the data generation function to `f_threshold_quadratic` in excercise 1? Why does the linear estimator still provide a reliable estimate of the true RF? What happens if you use a full quadratic nonlinearity and set the `offset` term to 0? For more details, see Sharpee Ann Rev Neurosci (2013) (link in \"Background\" section)."
   ]
  },
  {
   "attachments": {},
   "cell_type": "markdown",
   "metadata": {},
   "source": [
    "## Exercise 4\n",
    "---\n",
    "Look at the analytical derivation of the log-likelihood for the poisson GLM.\n",
    "Which of the terms are required for maximizing the likelihood with respect to $\\mathbf{k}$ and which terms can be ignored? **Note:** due to the independence of spikes in the different bins, the likelihood can be written as $P(R | S, \\mathbf{k}) = \\prod_t^T P(r_t | \\mathbf{s}_t, \\mathbf{k})$. The log turns the product into a sum which makes life much easier. \n",
    "\n",
    "\n"
   ]
  },
  {
   "attachments": {},
   "cell_type": "markdown",
   "metadata": {},
   "source": [
    "## Exercise 5\n",
    "---\n",
    "Explore the effect of the data duration and the firing rate on the goodness of fit of the Poisson GLM.\n",
    "\n",
    "A - Generate data with durations of 10,20,50,100 and 200 seconds. Fit the model on each dataset and plot the fitted parameters.\n",
    "Use the pearson correlation as a proxy of the goodness of fit, and plot it as a function of the duration of the data.\n",
    "\n",
    "B - Fix the duration to 100s, and change the average firing rate of the simulation. How does the fit perform for different firing rates? "
   ]
  }
 ],
 "metadata": {
  "kernelspec": {
   "display_name": "Python 3 (ipykernel)",
   "language": "python",
   "name": "python3"
  },
  "language_info": {
   "codemirror_mode": {
    "name": "ipython",
    "version": 3
   },
   "file_extension": ".py",
   "mimetype": "text/x-python",
   "name": "python",
   "nbconvert_exporter": "python",
   "pygments_lexer": "ipython3",
   "version": "3.11.3"
  },
  "vscode": {
   "interpreter": {
    "hash": "ec757111aa82fc412dab5a41ba1a33fdb6db5c8112df3ff06fec0dbff050b412"
   }
  }
 },
 "nbformat": 4,
 "nbformat_minor": 4
}
